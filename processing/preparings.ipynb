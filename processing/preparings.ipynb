{
 "cells": [
  {
   "cell_type": "code",
   "execution_count": 1,
   "metadata": {},
   "outputs": [],
   "source": [
    "import os\n",
    "import re\n",
    "import numpy as np\n",
    "import pandas as pd\n",
    "import pymorphy2\n",
    "from gensim.models import Word2Vec, KeyedVectors\n",
    "from functools import lru_cache\n",
    "import nltk\n",
    "\n",
    "import warnings\n",
    "\n",
    "warnings.filterwarnings('ignore')"
   ]
  },
  {
   "cell_type": "markdown",
   "metadata": {},
   "source": [
    "## Загружаем w2v и все необходимые аналайзеры"
   ]
  },
  {
   "cell_type": "code",
   "execution_count": 2,
   "metadata": {},
   "outputs": [],
   "source": [
    "ru_stopwords = nltk.corpus.stopwords.words('russian')"
   ]
  },
  {
   "cell_type": "code",
   "execution_count": 3,
   "metadata": {},
   "outputs": [],
   "source": [
    "morph = pymorphy2.MorphAnalyzer()"
   ]
  },
  {
   "cell_type": "code",
   "execution_count": 4,
   "metadata": {},
   "outputs": [],
   "source": [
    "w2v = KeyedVectors.load('model/my_model')"
   ]
  },
  {
   "cell_type": "code",
   "execution_count": 5,
   "metadata": {},
   "outputs": [],
   "source": [
    "w2v_columns = [f'w2v_{i}' for i in range(1, 301)]"
   ]
  },
  {
   "cell_type": "code",
   "execution_count": 6,
   "metadata": {},
   "outputs": [],
   "source": [
    "@lru_cache(maxsize=1000000) # с кешом!\n",
    "def get_normal_form(i):\n",
    "    return morph.normal_forms(i)[0]\n",
    "\n",
    "def normalize_text(x):\n",
    "    return ' '.join([get_normal_form(i) for i in re.findall('\\w+', x) if i not in ru_stopwords])"
   ]
  },
  {
   "cell_type": "code",
   "execution_count": 7,
   "metadata": {},
   "outputs": [],
   "source": [
    "def vectorise(phrase):\n",
    "    try:\n",
    "        return w2v[phrase]\n",
    "    except KeyError:\n",
    "        return np.random.normal(0, 1, 300)"
   ]
  },
  {
   "cell_type": "code",
   "execution_count": 8,
   "metadata": {},
   "outputs": [],
   "source": [
    "@lru_cache(maxsize=1000000)\n",
    "def is_capital(word):\n",
    "    return int(word[0].isupper())"
   ]
  },
  {
   "cell_type": "code",
   "execution_count": 9,
   "metadata": {},
   "outputs": [],
   "source": [
    "@lru_cache(maxsize=100000)\n",
    "def get_pos(word):\n",
    "    return str(morph.parse(word)[0].tag.POS) or 'other'\n",
    "\n",
    "@lru_cache(maxsize=100000)\n",
    "def get_gender(word):\n",
    "    return str(morph.parse(word)[0].tag.gender) or 'other'\n",
    "\n",
    "@lru_cache(maxsize=100000)\n",
    "def get_number(word):\n",
    "    return str(morph.parse(word)[0].tag.number) or 'other'\n",
    "\n",
    "@lru_cache(maxsize=100000)\n",
    "def get_case(word):\n",
    "    return str(morph.parse(word)[0].tag.case) or 'other'"
   ]
  },
  {
   "cell_type": "code",
   "execution_count": 10,
   "metadata": {},
   "outputs": [],
   "source": [
    "def my_gen(words):\n",
    "    i = 0\n",
    "    for word in words:\n",
    "        if word[-1] not in ['.', '!', '?']:\n",
    "            yield i\n",
    "            i += 1\n",
    "        else:\n",
    "            yield i\n",
    "            i = 0\n",
    "            \n",
    "def is_first(words):\n",
    "    positions = np.array([i for i in my_gen(words)])\n",
    "    return (positions == 0).astype(int)"
   ]
  },
  {
   "cell_type": "code",
   "execution_count": 11,
   "metadata": {},
   "outputs": [],
   "source": [
    "# todo запустить это "
   ]
  },
  {
   "cell_type": "markdown",
   "metadata": {},
   "source": [
    "## Считываем данные и генерим фичи"
   ]
  },
  {
   "cell_type": "code",
   "execution_count": 12,
   "metadata": {},
   "outputs": [],
   "source": [
    "df = pd.read_csv('all.csv').drop(axis=0, columns='Unnamed: 0')"
   ]
  },
  {
   "cell_type": "code",
   "execution_count": 13,
   "metadata": {},
   "outputs": [],
   "source": [
    "df['first_in_sentence'] = is_first(df.word.tolist())"
   ]
  },
  {
   "cell_type": "code",
   "execution_count": 14,
   "metadata": {},
   "outputs": [
    {
     "name": "stdout",
     "output_type": "stream",
     "text": [
      "Wall time: 27.9 s\n"
     ]
    }
   ],
   "source": [
    "%%time\n",
    "\n",
    "\n",
    "df['is_capital'] = df.word.apply(is_capital)\n",
    "df['part_of_speech'] = df.word.apply(get_pos)\n",
    "df['gender'] = df.word.apply(get_gender)\n",
    "df['number'] = df.word.apply(get_number)\n",
    "df['case'] = df.word.apply(get_case)\n",
    "df['len'] = df.word.apply(len)\n"
   ]
  },
  {
   "cell_type": "markdown",
   "metadata": {},
   "source": [
    "## Нормализуем и векторизуем"
   ]
  },
  {
   "cell_type": "code",
   "execution_count": null,
   "metadata": {},
   "outputs": [],
   "source": [
    "df.word = df.word.apply(normalize_text)"
   ]
  },
  {
   "cell_type": "code",
   "execution_count": null,
   "metadata": {},
   "outputs": [],
   "source": [
    "df = df.join(pd.DataFrame(df.word.apply(vectorise).tolist(), columns=w2v_columns))"
   ]
  },
  {
   "cell_type": "code",
   "execution_count": null,
   "metadata": {},
   "outputs": [],
   "source": [
    "df = df.drop(columns=['file', 'word'])"
   ]
  },
  {
   "cell_type": "code",
   "execution_count": null,
   "metadata": {},
   "outputs": [],
   "source": [
    "from sklearn.preprocessing import LabelEncoder"
   ]
  },
  {
   "cell_type": "code",
   "execution_count": 19,
   "metadata": {},
   "outputs": [],
   "source": [
    "from joblib import dump, load\n",
    "import pickle"
   ]
  },
  {
   "cell_type": "markdown",
   "metadata": {},
   "source": [
    "## Фитим и сохраняем энкодеры"
   ]
  },
  {
   "cell_type": "code",
   "execution_count": 19,
   "metadata": {},
   "outputs": [
    {
     "data": {
      "text/plain": [
       "['class_encoder.joblib']"
      ]
     },
     "execution_count": 19,
     "metadata": {},
     "output_type": "execute_result"
    }
   ],
   "source": [
    "enc = LabelEncoder()\n",
    "df['part_of_speech'] = enc.fit_transform(df['part_of_speech'])\n",
    "dump(enc, 'part_of_speech_encoder.joblib')\n",
    "\n",
    "enc = LabelEncoder()\n",
    "df['gender'] = enc.fit_transform(df['gender'])\n",
    "dump(enc, 'gender_encoder.joblib')\n",
    "\n",
    "enc = LabelEncoder()\n",
    "df['number'] = enc.fit_transform(df['number'])\n",
    "dump(enc, 'quantity_encoder.joblib')\n",
    "\n",
    "enc = LabelEncoder()    \n",
    "df['case'] = enc.fit_transform(df['case'])\n",
    "dump(enc, 'case_encoder.joblib')\n",
    "\n",
    "enc = LabelEncoder()\n",
    "df['class'] = df['class'].fillna('other')\n",
    "df['class'] = enc.fit_transform(df['class'])\n",
    "dump(enc, 'class_encoder.joblib')"
   ]
  },
  {
   "cell_type": "code",
   "execution_count": 20,
   "metadata": {},
   "outputs": [],
   "source": [
    "def create_neighbours(df):\n",
    "    \n",
    "    zeros_ = np.zeros(df.shape[1])\n",
    "    \n",
    "    left = []\n",
    "   \n",
    "    \n",
    "    right = []\n",
    "    \n",
    "    \n",
    "    for idx, row in enumerate(df):\n",
    "        \n",
    "        if row[2] == 1:\n",
    "            left.append(zeros_)\n",
    "            right.append(df[idx + 1])\n",
    "            \n",
    "        elif row[1] == 1:\n",
    "            left.append(df[idx - 1])\n",
    "            right.append(zeros_)\n",
    "            \n",
    "        else: \n",
    "            left.append(df[idx - 1])\n",
    "            right.append(df[idx + 1])\n",
    "    \n",
    "    \"\"\"left.columns = [f'prev_{col}' for col in left.columns]\n",
    "    right.columns = [f'next_{col}' for col in right.columns]\n",
    "    \n",
    "    left = left.reset_index().drop('index', axis=1)\n",
    "    df = df.reset_index().drop('index', axis=1)\n",
    "    right = right.reset_index().drop('index', axis=1)\"\"\"\n",
    "    \n",
    "    left = pd.DataFrame(np.array(left)).drop(columns=[0], axis=1)\n",
    "    df = pd.DataFrame(np.array(df)).rename(columns={0:'class'})\n",
    "    right = pd.DataFrame(np.array(right)).drop(columns=[0], axis=1)\n",
    "    \n",
    "    #return left, df, right\n",
    "    #return np.hstack([np.hstack([left, df]), right])\n",
    "    return pd.concat([pd.concat([left, df], axis=1), right], axis=1)\n",
    "    "
   ]
  },
  {
   "cell_type": "markdown",
   "metadata": {},
   "source": [
    "## Учитываем соседей"
   ]
  },
  {
   "cell_type": "code",
   "execution_count": 21,
   "metadata": {},
   "outputs": [
    {
     "name": "stdout",
     "output_type": "stream",
     "text": [
      "Wall time: 6.06 s\n"
     ]
    }
   ],
   "source": [
    "%%time\n",
    "\n",
    "df = create_neighbours(df.values)"
   ]
  },
  {
   "cell_type": "code",
   "execution_count": 26,
   "metadata": {},
   "outputs": [],
   "source": [
    "df = df.astype('float64')"
   ]
  },
  {
   "cell_type": "markdown",
   "metadata": {},
   "source": [
    "## Сохраняем ДФ для бустинга"
   ]
  },
  {
   "cell_type": "code",
   "execution_count": 29,
   "metadata": {},
   "outputs": [],
   "source": [
    "df.to_csv('boost_ready.csv', index=False)"
   ]
  }
 ],
 "metadata": {
  "kernelspec": {
   "display_name": "Python 3",
   "language": "python",
   "name": "python3"
  },
  "language_info": {
   "codemirror_mode": {
    "name": "ipython",
    "version": 3
   },
   "file_extension": ".py",
   "mimetype": "text/x-python",
   "name": "python",
   "nbconvert_exporter": "python",
   "pygments_lexer": "ipython3",
   "version": "3.7.3"
  }
 },
 "nbformat": 4,
 "nbformat_minor": 2
}
